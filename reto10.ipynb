{
 "cells": [
  {
   "cell_type": "markdown",
   "metadata": {},
   "source": [
    "1. Desarrollar un algoritmo que calcule el promedio de un arreglo de reales"
   ]
  },
  {
   "cell_type": "code",
   "execution_count": null,
   "metadata": {},
   "outputs": [],
   "source": [
    "def promedioDeReales(arregloDeReales: list) -> float:\n",
    "    suma = 0\n",
    "    cantidadDeReales = len(arregloDeReales)\n",
    "    for real in arregloDeReales:\n",
    "        suma += real\n",
    "    \n",
    "    promedio = suma/cantidadDeReales\n",
    "\n",
    "    return promedio\n",
    "\n",
    "arreglo = [1, 2, 3, 4, 5]\n",
    "promedio = promedioDeReales(arreglo)\n",
    "\n",
    "print(promedio)"
   ]
  },
  {
   "cell_type": "markdown",
   "metadata": {},
   "source": [
    "2. Desarrollar un algoritmo que calcule el producto punto de dos arreglos de números enteros (reales) de igual tamaño"
   ]
  },
  {
   "cell_type": "code",
   "execution_count": null,
   "metadata": {},
   "outputs": [],
   "source": [
    "def productoPunto(u: list, v: list):\n",
    "    if len(u) != len(v):\n",
    "        return None\n",
    "    else:\n",
    "        resultado = 0\n",
    "        for i in range(len(u)):\n",
    "            resultado += u[i]*v[i]\n",
    "\n",
    "        return resultado\n",
    "\n",
    "u = [1, 0, 0]\n",
    "v = [0, 1, 0]\n",
    "\n",
    "u_dot_v = productoPunto(u, v)\n",
    "\n",
    "print(u_dot_v)"
   ]
  },
  {
   "cell_type": "markdown",
   "metadata": {},
   "source": [
    "3. Hacer un algoritmo que deje al final de un arreglo de números todos los ceros que aparezcan en dicho arreglo"
   ]
  },
  {
   "cell_type": "code",
   "execution_count": null,
   "metadata": {},
   "outputs": [],
   "source": [
    "def cerosAlFinal(arreglo: list):\n",
    "    for i in range(len(arreglo)):\n",
    "        numero = arreglo[i]\n",
    "        if numero == 0:\n",
    "            arreglo.pop(i)\n",
    "            arreglo.append(numero)\n",
    "    \n",
    "arreglo = [1, 0, 1, 0, 2, 3, 0, 4]\n",
    "\n",
    "cerosAlFinal(arreglo)\n",
    "\n",
    "print(arreglo)\n"
   ]
  }
 ],
 "metadata": {
  "kernelspec": {
   "display_name": "Python 3",
   "language": "python",
   "name": "python3"
  },
  "language_info": {
   "codemirror_mode": {
    "name": "ipython",
    "version": 3
   },
   "file_extension": ".py",
   "mimetype": "text/x-python",
   "name": "python",
   "nbconvert_exporter": "python",
   "pygments_lexer": "ipython3",
   "version": "3.10.12"
  }
 },
 "nbformat": 4,
 "nbformat_minor": 2
}
